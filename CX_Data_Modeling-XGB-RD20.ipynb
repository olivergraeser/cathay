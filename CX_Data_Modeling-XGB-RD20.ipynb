{
 "cells": [
  {
   "cell_type": "markdown",
   "metadata": {},
   "source": [
    "### Load XGBoost libraries"
   ]
  },
  {
   "cell_type": "code",
   "execution_count": null,
   "metadata": {},
   "outputs": [],
   "source": [
    "import pandas as pd\n",
    "import numpy as np\n",
    "from xgboost import XGBRegressor\n",
    "from sklearn.metrics import explained_variance_score, r2_score\n",
    "from matplotlib import pyplot as plt\n",
    "from cxutils import tableau20\n",
    "%matplotlib inline"
   ]
  },
  {
   "cell_type": "markdown",
   "metadata": {},
   "source": [
    "### Set up hyperparameters for selection"
   ]
  },
  {
   "cell_type": "code",
   "execution_count": null,
   "metadata": {},
   "outputs": [],
   "source": [
    "estimator_cnts = [1, 10, 500, 1000]\n",
    "max_depths = [2, 5, 10]\n",
    "max_depths_marker = {2:'o', 5:'^', 10:'x'}\n",
    "models = dict()\n",
    "for estimator_cnt in estimator_cnts:\n",
    "    for max_depth in max_depths:\n",
    "        descriptor = 'est:{}|md:{}'.format(estimator_cnt, max_depth)\n",
    "        models[descriptor] = XGBRegressor(n_estimators=estimator_cnt,\n",
    "                                                   max_depth=max_depth)"
   ]
  },
  {
   "cell_type": "markdown",
   "metadata": {
    "collapsed": true
   },
   "source": [
    "### Load randomly selected train/test set "
   ]
  },
  {
   "cell_type": "code",
   "execution_count": null,
   "metadata": {
    "collapsed": true
   },
   "outputs": [],
   "source": [
    "def load_data_sets(filename):\n",
    "    filenames = ('{}_{}.pickle'.format(filename, _) for _ in ('train_data', 'train_target', 'test_data', 'test_target'))    \n",
    "    return [pd.read_pickle(_) for _ in filenames]\n",
    "\n",
    "\n",
    "train_data, train_target, test_data, test_target = load_data_sets('usfd_additional_onehot_random_20')"
   ]
  },
  {
   "cell_type": "markdown",
   "metadata": {},
   "source": [
    "### For all hyperparameters, fit model to data and predict on training and test set"
   ]
  },
  {
   "cell_type": "code",
   "execution_count": null,
   "metadata": {},
   "outputs": [],
   "source": [
    "predictions_test = dict()\n",
    "predictions_train = dict()\n",
    "for descriptor, model in models.items():\n",
    "    model.fit(np.asarray(train_data), np.asarray(train_target).ravel())\n",
    "    predictions_test[descriptor] = model.predict(np.asarray(test_data))\n",
    "    predictions_train[descriptor] = model.predict(np.asarray(train_data))\n",
    "\n"
   ]
  },
  {
   "cell_type": "markdown",
   "metadata": {},
   "source": [
    "### Show prediction result on the training set (this ought to be decent)"
   ]
  },
  {
   "cell_type": "code",
   "execution_count": null,
   "metadata": {},
   "outputs": [],
   "source": [
    "best_set = sorted(models.keys(), key=lambda _: -r2_score(train_target, predictions_train[_]))[0]\n",
    "plt.scatter(x=train_target, y=predictions_train[best_set], marker='o', s=1, color=tableau20[1])\n",
    "print('Set {} : R2 -> {}'\n",
    "      .format(best_set, \n",
    "              r2_score(train_target, predictions_train[best_set])))"
   ]
  },
  {
   "cell_type": "markdown",
   "metadata": {},
   "source": [
    "### Show prediction results on test set (this is the relevant quantity)"
   ]
  },
  {
   "cell_type": "code",
   "execution_count": null,
   "metadata": {},
   "outputs": [],
   "source": [
    "best_set = sorted(models.keys(), key=lambda _: -r2_score(test_target, predictions_test[_]))[0]\n",
    "plt.scatter(x=test_target, y=predictions_test[best_set], marker='o', s=1, color=tableau20[2])\n",
    "print('Set {} : R2 -> {}'\n",
    "      .format(best_set, \n",
    "              r2_score(test_target, predictions_test[best_set])\n",
    "             ))"
   ]
  },
  {
   "cell_type": "markdown",
   "metadata": {},
   "source": [
    "### Compare hyperparameter selection"
   ]
  },
  {
   "cell_type": "code",
   "execution_count": null,
   "metadata": {},
   "outputs": [],
   "source": [
    "for estimator_cnt in estimator_cnts:\n",
    "        for max_depth in max_depths:\n",
    "            descriptor = 'est:{}|md:{}'.format(estimator_cnt, max_depth)\n",
    "            plt.semilogx(estimator_cnt, r2_score(test_target, predictions_test[descriptor]), \n",
    "                     marker=max_depths_marker[max_depth])\n",
    "            "
   ]
  }
 ],
 "metadata": {
  "kernelspec": {
   "display_name": "Python 3",
   "language": "python",
   "name": "python3"
  },
  "language_info": {
   "codemirror_mode": {
    "name": "ipython",
    "version": 3
   },
   "file_extension": ".py",
   "mimetype": "text/x-python",
   "name": "python",
   "nbconvert_exporter": "python",
   "pygments_lexer": "ipython3",
   "version": "3.5.1"
  }
 },
 "nbformat": 4,
 "nbformat_minor": 2
}
