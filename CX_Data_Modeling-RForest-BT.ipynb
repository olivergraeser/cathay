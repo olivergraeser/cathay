{
 "cells": [
  {
   "cell_type": "markdown",
   "metadata": {},
   "source": [
    "### Load RegressorForest libraries"
   ]
  },
  {
   "cell_type": "code",
   "execution_count": null,
   "metadata": {
    "collapsed": true
   },
   "outputs": [],
   "source": [
    "import pandas as pd\n",
    "import numpy as np\n",
    "from sklearn.ensemble import RandomForestRegressor\n",
    "from sklearn.metrics import explained_variance_score, r2_score\n",
    "from matplotlib import pyplot as plt\n",
    "from cxutils import tableau20\n",
    "%matplotlib inline"
   ]
  },
  {
   "cell_type": "markdown",
   "metadata": {},
   "source": [
    "### Set up hyperparameters for selection"
   ]
  },
  {
   "cell_type": "code",
   "execution_count": null,
   "metadata": {
    "collapsed": true
   },
   "outputs": [],
   "source": [
    "estimator_cnts = [1, 10, 500, 1000]\n",
    "min_samples_leaves = [1, 5, 10]\n",
    "min_samples_leaves_colors = {1:tableau20[1], 5:tableau20[2], 10:tableau20[0]}\n",
    "max_depths = [2, 5, 10]\n",
    "max_depths_marker = {2:'o', 5:'^', 10:'x'}\n",
    "models = dict()\n",
    "for estimator_cnt in estimator_cnts:\n",
    "    for min_samples_leaf in min_samples_leaves:\n",
    "        for max_depth in max_depths:\n",
    "            descriptor = 'est:{}|msl:{}|md:{}'.format(estimator_cnt, min_samples_leaf, max_depth)\n",
    "            models[descriptor] = RandomForestRegressor(n_estimators=estimator_cnt, \n",
    "                                                       min_samples_leaf=min_samples_leaf,\n",
    "                                                       max_depth=max_depth)"
   ]
  },
  {
   "cell_type": "markdown",
   "metadata": {
    "collapsed": true
   },
   "source": [
    "### Load randomly selected train/test set "
   ]
  },
  {
   "cell_type": "code",
   "execution_count": null,
   "metadata": {
    "collapsed": true
   },
   "outputs": [],
   "source": [
    "def load_data_sets(filename):\n",
    "    filenames = ('{}_{}.pickle'.format(filename, _) for _ in ('train_data', 'train_target', 'test_data', 'test_target'))    \n",
    "    return [pd.read_pickle(_) for _ in filenames]\n",
    "\n",
    "\n",
    "train_data, train_target, test_data, test_target = load_data_sets('usfd_additional_onehot_by_time')"
   ]
  },
  {
   "cell_type": "markdown",
   "metadata": {},
   "source": [
    "### For all hyperparameters, fit model to data and predict on training and test set"
   ]
  },
  {
   "cell_type": "code",
   "execution_count": null,
   "metadata": {
    "collapsed": true
   },
   "outputs": [],
   "source": [
    "predictions_test = dict()\n",
    "predictions_train = dict()\n",
    "for descriptor, model in models.items():\n",
    "    model.fit(np.asarray(train_data), np.asarray(train_target).ravel())\n",
    "    predictions_test[descriptor] = model.predict(test_data)\n",
    "    predictions_train[descriptor] = model.predict(train_data)\n",
    "\n"
   ]
  },
  {
   "cell_type": "markdown",
   "metadata": {},
   "source": [
    "### Show prediction result on the training set (this ought to be decent)"
   ]
  },
  {
   "cell_type": "code",
   "execution_count": null,
   "metadata": {},
   "outputs": [],
   "source": [
    "best_set = sorted(models.keys(), key=lambda _: -r2_score(train_target, predictions_train[_]))[0]\n",
    "plt.scatter(x=train_target, y=predictions_train[best_set], marker='o', s=1, color=tableau20[1])\n",
    "print('Set {} : R2 -> {}, AS -> {}'\n",
    "      .format(descriptor, \n",
    "              r2_score(train_target, predictions_train[best_set]),\n",
    "              explained_variance_score(train_target, predictions_train[best_set])))"
   ]
  },
  {
   "cell_type": "markdown",
   "metadata": {},
   "source": [
    "### Show prediction results on test set (this is the relevant quantity)"
   ]
  },
  {
   "cell_type": "code",
   "execution_count": null,
   "metadata": {},
   "outputs": [],
   "source": [
    "best_set = sorted(models.keys(), key=lambda _: -r2_score(test_target, predictions_test[_]))[0]\n",
    "plt.scatter(x=test_target, y=predictions_test[best_set], marker='o', s=1, color=tableau20[2])\n",
    "print('Set {} : R2 -> {}, AS -> {}'\n",
    "      .format(descriptor, \n",
    "              r2_score(test_target, predictions_test[best_set]),\n",
    "             0))"
   ]
  },
  {
   "cell_type": "markdown",
   "metadata": {},
   "source": [
    "### Compare hyperparameter selection"
   ]
  },
  {
   "cell_type": "code",
   "execution_count": null,
   "metadata": {},
   "outputs": [],
   "source": [
    "for estimator_cnt in estimator_cnts:\n",
    "    for min_samples_leaf in min_samples_leaves:\n",
    "        for max_depth in max_depths:\n",
    "            descriptor = 'est:{}|msl:{}|md:{}'.format(estimator_cnt, min_samples_leaf, max_depth)\n",
    "            plt.semilogx(estimator_cnt, r2_score(test_target, predictions_test[descriptor]), \n",
    "                     marker=max_depths_marker[max_depth], color=min_samples_leaves_colors[min_samples_leaf])\n",
    "            "
   ]
  },
  {
   "cell_type": "code",
   "execution_count": null,
   "metadata": {},
   "outputs": [],
   "source": [
    "sorted(list(zip(test_data.columns, models[best_set].feature_importances_)), key=lambda _: -_[1])\n"
   ]
  },
  {
   "cell_type": "code",
   "execution_count": null,
   "metadata": {
    "collapsed": true
   },
   "outputs": [],
   "source": []
  },
  {
   "cell_type": "code",
   "execution_count": null,
   "metadata": {
    "collapsed": true
   },
   "outputs": [],
   "source": []
  },
  {
   "cell_type": "code",
   "execution_count": null,
   "metadata": {
    "collapsed": true
   },
   "outputs": [],
   "source": []
  }
 ],
 "metadata": {
  "kernelspec": {
   "display_name": "Python 3",
   "language": "python",
   "name": "python3"
  },
  "language_info": {
   "codemirror_mode": {
    "name": "ipython",
    "version": 3
   },
   "file_extension": ".py",
   "mimetype": "text/x-python",
   "name": "python",
   "nbconvert_exporter": "python",
   "pygments_lexer": "ipython3",
   "version": "3.5.1"
  }
 },
 "nbformat": 4,
 "nbformat_minor": 2
}
